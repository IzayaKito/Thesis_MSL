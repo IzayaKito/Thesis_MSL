{
 "cells": [
  {
   "cell_type": "code",
   "execution_count": 1,
   "metadata": {},
   "outputs": [],
   "source": [
    "import numpy as np\n",
    "import math\n",
    "import skimage.io as io\n",
    "import matplotlib.pyplot as plt\n",
    "from skimage.transform import rotate\n",
    "import os\n",
    "import cv2\n",
    "import tqdm"
   ]
  },
  {
   "cell_type": "code",
   "execution_count": 2,
   "metadata": {},
   "outputs": [],
   "source": [
    "def augmentImage(im_a):\n",
    "    data_train = []\n",
    "\n",
    "    flip_0 = im_a\n",
    "    #flip_45 = rotate(im_a,angle=45,mode='wrap')\n",
    "    flip_90 = rotate(im_a,angle=90,mode='wrap')\n",
    "    #flip_135 = rotate(im_a,angle=135,mode='wrap')\n",
    "    flip_180 = rotate(im_a,angle=180,mode='wrap')\n",
    "    #flip_225 = rotate(im_a,angle=225,mode='wrap')\n",
    "    flip_270 = rotate(im_a,angle=270,mode='wrap')\n",
    "    #flip_315 = rotate(im_a,angle=315,mode='wrap')\n",
    "\n",
    "    data_train.append(flip_0)\n",
    "    #data_train.append(flip_45)\n",
    "    data_train.append(flip_90)\n",
    "    #data_train.append(flip_135)\n",
    "    data_train.append(flip_180)\n",
    "    #data_train.append(flip_225)\n",
    "    data_train.append(flip_270)\n",
    "    #data_train.append(flip_315)\n",
    "\n",
    "    data_train.append(np.flipud(flip_0))\n",
    "    #data_train.append(np.flipud(flip_45))\n",
    "    data_train.append(np.flipud(flip_90))\n",
    "    #data_train.append(np.flipud(flip_135))\n",
    "    data_train.append(np.flipud(flip_180))\n",
    "    #data_train.append(np.flipud(flip_225))\n",
    "    data_train.append(np.flipud(flip_270))\n",
    "    #data_train.append(np.flipud(flip_315))\n",
    "    \n",
    "    return data_train"
   ]
  },
  {
   "cell_type": "code",
   "execution_count": 3,
   "metadata": {},
   "outputs": [],
   "source": [
    "#Para la generación del etiquetado ground truth, utilizaremos la menor cantidad de cuadrados\n",
    "#que se puedan generar a partir de la imagen \n",
    "\n",
    "def mcd(n,m) : # Calcula el maximo común divisor \n",
    "  if n == 0:\n",
    "    return m\n",
    "  return mcd(m % n, n)\n",
    "\n",
    "def squares(n, m) : # Devuelve la cantidad de cuadrados que se extraen de la imagen\n",
    "    return n/mcd(n,m) * m/mcd(n,m) \n",
    "    \n",
    "overlap = 0.1 #porcentaje de overlap entre cuadrados \n",
    "def subdivs(image,index,tfile) :\n",
    "    h = image.shape[0]\n",
    "    w = image.shape[1]\n",
    "\n",
    "    maxSqr = squares(h,w)\n",
    "    sqrFirst = mcd(h,w)\n",
    "    sqrFinal = sqrFirst + overlap*sqrFirst\n",
    "    step = sqrFirst - overlap*sqrFirst\n",
    "    subdivs = []\n",
    "    \n",
    "    #Obtenemos todas las subdivisiones de la imagen \n",
    "    for i in range(0, int(h)-int(sqrFinal)+1, int(step)):\n",
    "        subdivs.append([])\n",
    "        for j in range(0, int(w)-int(sqrFinal)+1, int(step)):\n",
    "            patch = image[i:i+int(sqrFinal), j:j+int(sqrFinal), :]\n",
    "            subdivs[-1].append(patch)\n",
    "    \n",
    "    #Con las subdivisiones, aumentamos la imagen\n",
    "    count = 0\n",
    "    subdivs = np.array(subdivs)\n",
    "    rangei = subdivs.shape[0]\n",
    "    rangej = subdivs.shape[1]\n",
    "    \n",
    "    for i in tqdm.tqdm(range(rangei)):\n",
    "        for j in range(rangej):\n",
    "            \n",
    "            img = subdivs[i,j,:,:,:]\n",
    "            augmentedData = augmentImage(img)\n",
    "            \n",
    "            for div in augmentedData:\n",
    "                res = cv2.resize(div, dsize=(512, 512), interpolation=cv2.INTER_NEAREST)\n",
    "                \n",
    "                if(tfile=='tiff'):\n",
    "                    plt.imsave(\"dataset/test/\"+ str(index) + \"/\" + str(count) + \".tiff\", res)\n",
    "                else:\n",
    "                    plt.imsave(\"dataset/test/\"+ str(index) + \"/\" + str(count) + \".jpg\", res)\n",
    "                count+=1"
   ]
  },
  {
   "cell_type": "code",
   "execution_count": 4,
   "metadata": {
    "scrolled": true
   },
   "outputs": [
    {
     "name": "stderr",
     "output_type": "stream",
     "text": [
      "100%|████████████████████████████████████████████████████████████████████████████████████| 2/2 [00:22<00:00, 11.35s/it]\n",
      "100%|████████████████████████████████████████████████████████████████████████████████████| 2/2 [00:22<00:00, 11.04s/it]\n"
     ]
    }
   ],
   "source": [
    "#Directorio de imagenes\n",
    "col_dir = 'dataset_preprocess/test/'\n",
    "\n",
    "#Creando una coleccion con todas las imagenes \n",
    "images = []\n",
    "count = 0\n",
    "for filename in os.listdir(col_dir):\n",
    "    img = io.imread(col_dir+str(count)+'.JPG')\n",
    "    imgGT = io.imread(col_dir+str(count)+'.tif')\n",
    "    \n",
    "    os.makedirs(os.path.dirname(\"dataset/test/\"+ str(count) + \"/\"))\n",
    "    if img is not None:\n",
    "        subdivs(img,count,'jpg')\n",
    "        subdivs(imgGT,count,'tiff')\n",
    "        count+=1\n",
    "    \n",
    "    if(count==1):break; #CAMBIAR CUANDO SE HAGAN MAS GT"
   ]
  }
 ],
 "metadata": {
  "kernelspec": {
   "display_name": "Python 3",
   "language": "python",
   "name": "python3"
  },
  "language_info": {
   "codemirror_mode": {
    "name": "ipython",
    "version": 3
   },
   "file_extension": ".py",
   "mimetype": "text/x-python",
   "name": "python",
   "nbconvert_exporter": "python",
   "pygments_lexer": "ipython3",
   "version": "3.8.3"
  }
 },
 "nbformat": 4,
 "nbformat_minor": 4
}
