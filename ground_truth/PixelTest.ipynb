{
 "cells": [
  {
   "cell_type": "code",
   "execution_count": null,
   "metadata": {},
   "outputs": [],
   "source": [
    "import cv2\n",
    "import numpy as np"
   ]
  },
  {
   "cell_type": "code",
   "execution_count": 3,
   "metadata": {},
   "outputs": [
    {
     "name": "stdout",
     "output_type": "stream",
     "text": [
      "Unique colors in label:\n",
      " [[  0 106 255]\n",
      " [  0 238 255]\n",
      " [255   0  94]]\n",
      "Percentages per pixel color:  [56.687, 11.79, 31.523]\n",
      "Percentage of pixels with label: 100.0\n"
     ]
    }
   ],
   "source": [
    "#Function for evaluation of pixel values\n",
    "img = cv2.imread(\"DSC0092.tif\")\n",
    "all_rgb_codes = img.reshape(-1, img.shape[-1])\n",
    "unique_rgbs = np.unique(all_rgb_codes, return_counts=True, axis=0)\n",
    "print('Unique colors in label:\\n',unique_rgbs[0])\n",
    "\n",
    "freq = np.sum(unique_rgbs[1])\n",
    "perc = []\n",
    "for i in unique_rgbs[1]:\n",
    "    perc.append((i/freq)*100)\n",
    "\n",
    "percRound = list(np.around(np.array(perc),3))\n",
    "print('Percentages per pixel color: ',percRound)\n",
    "print('Percentage of pixels with label:', sum(perc))"
   ]
  },
  {
   "cell_type": "code",
   "execution_count": 3,
   "metadata": {
    "scrolled": true
   },
   "outputs": [],
   "source": [
    "#By using reshape, color codes got inverted.Turning them barck to normal\n",
    "actual_colors = []\n",
    "for i in unique_rgbs[0]:\n",
    "    i = i[::-1]\n",
    "    actual_colors.append(i)\n",
    "actual_colors = np.array(actual_colors)"
   ]
  },
  {
   "cell_type": "code",
   "execution_count": 4,
   "metadata": {
    "scrolled": true
   },
   "outputs": [
    {
     "data": {
      "text/plain": [
       "<matplotlib.image.AxesImage at 0x20e2dd22c70>"
      ]
     },
     "execution_count": 4,
     "metadata": {},
     "output_type": "execute_result"
    },
    {
     "data": {
      "image/png": "[encoded data removed]",
      "text/plain": [
       "<Figure size 432x288 with 1 Axes>"
      ]
     },
     "metadata": {
      "needs_background": "light"
     },
     "output_type": "display_data"
    }
   ],
   "source": [
    "import numpy as np\n",
    "import matplotlib.pyplot as plt\n",
    "from skimage import io\n",
    "\n",
    "palette = np.array(actual_colors, dtype=np.uint8)\n",
    "indices = np.array([[0,1,2]])\n",
    "io.imshow(palette[indices])\n"
   ]
  },
  {
   "cell_type": "code",
   "execution_count": null,
   "metadata": {},
   "outputs": [],
   "source": []
  }
 ],
 "metadata": {
  "kernelspec": {
   "display_name": "Python 3",
   "language": "python",
   "name": "python3"
  },
  "language_info": {
   "codemirror_mode": {
    "name": "ipython",
    "version": 3
   },
   "file_extension": ".py",
   "mimetype": "text/x-python",
   "name": "python",
   "nbconvert_exporter": "python",
   "pygments_lexer": "ipython3",
   "version": "3.8.3"
  }
 },
 "nbformat": 4,
 "nbformat_minor": 4
}
